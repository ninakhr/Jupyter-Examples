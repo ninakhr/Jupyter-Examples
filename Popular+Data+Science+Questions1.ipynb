{
 "cells": [
  {
   "cell_type": "markdown",
   "metadata": {},
   "source": [
    "# Popular Data Science Questions"
   ]
  },
  {
   "cell_type": "markdown",
   "metadata": {
    "collapsed": true
   },
   "source": [
    "Our goal in this project is to answer the question \"What is it that people want to learn about in data science?\". By learning something new (related to programming and DS) everyone starts searching this in different search engines. Maybe the most popular and one of the first searches is Stack Overflow and other Stack Exchange hosts sites.<br> "
   ]
  },
  {
   "cell_type": "markdown",
   "metadata": {},
   "source": [
    "### Stack Exchange"
   ]
  },
  {
   "cell_type": "markdown",
   "metadata": {},
   "source": [
    "Being a multidisciplinary field, there a few Stack Exchange websites there are relevant to our goal here:\n",
    "\n",
    "* Data Science\n",
    "* Cross Validated — a statistics site\n",
    "* Artificial Intelligence\n",
    "* Mathematics\n",
    "* Stack Overflow\n"
   ]
  },
  {
   "cell_type": "markdown",
   "metadata": {
    "collapsed": true
   },
   "source": [
    "These sites represent an attractive target for our research because StackExchange makes a great deal of data about the sites content and activity available through a SQL-based data portal.\n",
    "\n",
    "In order to understand the available data its helpful to take a closer look at a typical StackExchange web site. Let's focus on DSSE, for obvious reasons.\n",
    "\n",
    "Looking at the Data Science StackExchange, we see that the body of the homepage is filled with questions asked on the site that are considered \"active\" at the time the page loaded. This view can also be switched to show the \"hot\" questions of the past few days, week or month. Finally, one can look at questions that people have placed \"bounties\" on.\n",
    "\n"
   ]
  },
  {
   "cell_type": "markdown",
   "metadata": {},
   "source": [
    "#### What information is available in each post?\n",
    "Looking, just as an example, at this question, some of the information we see is:\n",
    "\n",
    "For both questions and answers:\n",
    "- The posts's score;\n",
    "- The posts's title;\n",
    "- The posts's author;\n",
    "- The posts's body;\n"
   ]
  },
  {
   "cell_type": "markdown",
   "metadata": {},
   "source": [
    "For questions only: \n",
    "- How many users have it on their \"\n",
    "- The last time the question as active;\n",
    "- How many times the question was viewed;\n",
    "- Related questions;\n",
    "- The question's tags;\n"
   ]
  },
  {
   "cell_type": "markdown",
   "metadata": {},
   "source": [
    "### Getting the Data"
   ]
  },
  {
   "cell_type": "markdown",
   "metadata": {},
   "source": [
    "The posts table has a lot of columns. We'll be focusing our attention on those that seem relevant towards our goal:\n",
    "\n",
    "- Id: An identification number for the post.\n",
    "- PostTypeId: An identification number for the type of post.\n",
    "- CreationDate: The date and time of creation of the post.\n",
    "- Score: The post's score.\n",
    "- ViewCount: How many times the post was viewed.\n",
    "- Tags: What tags were used.\n",
    "- AnswerCount: How many answers the question got (only applicable to question posts).\n",
    "- FavoriteCount: How many times the question was favored (only applicable to question posts)."
   ]
  },
  {
   "cell_type": "markdown",
   "metadata": {},
   "source": [
    "To start, I'll extraced metadata, including tags, for question and answer posts made in 2019.\n",
    "<br>\n",
    "<br>\n",
    "`\n",
    "SELECT Id, CreationDate,\n",
    "       Score, ViewCount, Tags,\n",
    "       AnswerCount, FavoriteCount\n",
    "  FROM posts\n",
    " WHERE PostTypeId = 1 AND YEAR(CreationDate) = 2019;\n",
    "`\n",
    "<br>\n",
    "<br>\n",
    "Results exported and stored alongside this notebook in 2019_DSSE_posts_metadata_extract.csv"
   ]
  },
  {
   "cell_type": "markdown",
   "metadata": {},
   "source": [
    "### Exploring the Data"
   ]
  },
  {
   "cell_type": "code",
   "execution_count": 2,
   "metadata": {
    "collapsed": false
   },
   "outputs": [
    {
     "data": {
      "text/html": [
       "<div>\n",
       "<style scoped>\n",
       "    .dataframe tbody tr th:only-of-type {\n",
       "        vertical-align: middle;\n",
       "    }\n",
       "\n",
       "    .dataframe tbody tr th {\n",
       "        vertical-align: top;\n",
       "    }\n",
       "\n",
       "    .dataframe thead th {\n",
       "        text-align: right;\n",
       "    }\n",
       "</style>\n",
       "<table border=\"1\" class=\"dataframe\">\n",
       "  <thead>\n",
       "    <tr style=\"text-align: right;\">\n",
       "      <th></th>\n",
       "      <th>Id</th>\n",
       "      <th>CreationDate</th>\n",
       "      <th>Score</th>\n",
       "      <th>ViewCount</th>\n",
       "      <th>Tags</th>\n",
       "      <th>AnswerCount</th>\n",
       "      <th>FavoriteCount</th>\n",
       "    </tr>\n",
       "  </thead>\n",
       "  <tbody>\n",
       "    <tr>\n",
       "      <th>0</th>\n",
       "      <td>44419</td>\n",
       "      <td>2019-01-23 09:21:13</td>\n",
       "      <td>1</td>\n",
       "      <td>21</td>\n",
       "      <td>&lt;machine-learning&gt;&lt;data-mining&gt;</td>\n",
       "      <td>0</td>\n",
       "      <td>NaN</td>\n",
       "    </tr>\n",
       "    <tr>\n",
       "      <th>1</th>\n",
       "      <td>44420</td>\n",
       "      <td>2019-01-23 09:34:01</td>\n",
       "      <td>0</td>\n",
       "      <td>25</td>\n",
       "      <td>&lt;machine-learning&gt;&lt;regression&gt;&lt;linear-regressi...</td>\n",
       "      <td>0</td>\n",
       "      <td>NaN</td>\n",
       "    </tr>\n",
       "    <tr>\n",
       "      <th>2</th>\n",
       "      <td>44423</td>\n",
       "      <td>2019-01-23 09:58:41</td>\n",
       "      <td>2</td>\n",
       "      <td>1651</td>\n",
       "      <td>&lt;python&gt;&lt;time-series&gt;&lt;forecast&gt;&lt;forecasting&gt;</td>\n",
       "      <td>0</td>\n",
       "      <td>NaN</td>\n",
       "    </tr>\n",
       "    <tr>\n",
       "      <th>3</th>\n",
       "      <td>44427</td>\n",
       "      <td>2019-01-23 10:57:09</td>\n",
       "      <td>0</td>\n",
       "      <td>55</td>\n",
       "      <td>&lt;machine-learning&gt;&lt;scikit-learn&gt;&lt;pca&gt;</td>\n",
       "      <td>1</td>\n",
       "      <td>NaN</td>\n",
       "    </tr>\n",
       "    <tr>\n",
       "      <th>4</th>\n",
       "      <td>44428</td>\n",
       "      <td>2019-01-23 11:02:15</td>\n",
       "      <td>0</td>\n",
       "      <td>19</td>\n",
       "      <td>&lt;dataset&gt;&lt;bigdata&gt;&lt;data&gt;&lt;speech-to-text&gt;</td>\n",
       "      <td>0</td>\n",
       "      <td>NaN</td>\n",
       "    </tr>\n",
       "    <tr>\n",
       "      <th>5</th>\n",
       "      <td>44430</td>\n",
       "      <td>2019-01-23 11:13:32</td>\n",
       "      <td>0</td>\n",
       "      <td>283</td>\n",
       "      <td>&lt;fuzzy-logic&gt;</td>\n",
       "      <td>1</td>\n",
       "      <td>NaN</td>\n",
       "    </tr>\n",
       "    <tr>\n",
       "      <th>6</th>\n",
       "      <td>44432</td>\n",
       "      <td>2019-01-23 11:17:46</td>\n",
       "      <td>1</td>\n",
       "      <td>214</td>\n",
       "      <td>&lt;time-series&gt;&lt;anomaly-detection&gt;&lt;online-learning&gt;</td>\n",
       "      <td>0</td>\n",
       "      <td>1.0</td>\n",
       "    </tr>\n",
       "    <tr>\n",
       "      <th>7</th>\n",
       "      <td>44436</td>\n",
       "      <td>2019-01-23 12:49:39</td>\n",
       "      <td>0</td>\n",
       "      <td>9</td>\n",
       "      <td>&lt;matrix-factorisation&gt;</td>\n",
       "      <td>0</td>\n",
       "      <td>NaN</td>\n",
       "    </tr>\n",
       "    <tr>\n",
       "      <th>8</th>\n",
       "      <td>44437</td>\n",
       "      <td>2019-01-23 13:04:11</td>\n",
       "      <td>0</td>\n",
       "      <td>7</td>\n",
       "      <td>&lt;correlation&gt;&lt;naive-bayes-classifier&gt;</td>\n",
       "      <td>0</td>\n",
       "      <td>NaN</td>\n",
       "    </tr>\n",
       "    <tr>\n",
       "      <th>9</th>\n",
       "      <td>44438</td>\n",
       "      <td>2019-01-23 13:16:29</td>\n",
       "      <td>0</td>\n",
       "      <td>584</td>\n",
       "      <td>&lt;machine-learning&gt;&lt;python&gt;&lt;deep-learning&gt;&lt;kera...</td>\n",
       "      <td>1</td>\n",
       "      <td>NaN</td>\n",
       "    </tr>\n",
       "  </tbody>\n",
       "</table>\n",
       "</div>"
      ],
      "text/plain": [
       "      Id        CreationDate  Score  ViewCount  \\\n",
       "0  44419 2019-01-23 09:21:13      1         21   \n",
       "1  44420 2019-01-23 09:34:01      0         25   \n",
       "2  44423 2019-01-23 09:58:41      2       1651   \n",
       "3  44427 2019-01-23 10:57:09      0         55   \n",
       "4  44428 2019-01-23 11:02:15      0         19   \n",
       "5  44430 2019-01-23 11:13:32      0        283   \n",
       "6  44432 2019-01-23 11:17:46      1        214   \n",
       "7  44436 2019-01-23 12:49:39      0          9   \n",
       "8  44437 2019-01-23 13:04:11      0          7   \n",
       "9  44438 2019-01-23 13:16:29      0        584   \n",
       "\n",
       "                                                Tags  AnswerCount  \\\n",
       "0                    <machine-learning><data-mining>            0   \n",
       "1  <machine-learning><regression><linear-regressi...            0   \n",
       "2       <python><time-series><forecast><forecasting>            0   \n",
       "3              <machine-learning><scikit-learn><pca>            1   \n",
       "4           <dataset><bigdata><data><speech-to-text>            0   \n",
       "5                                      <fuzzy-logic>            1   \n",
       "6  <time-series><anomaly-detection><online-learning>            0   \n",
       "7                             <matrix-factorisation>            0   \n",
       "8              <correlation><naive-bayes-classifier>            0   \n",
       "9  <machine-learning><python><deep-learning><kera...            1   \n",
       "\n",
       "   FavoriteCount  \n",
       "0            NaN  \n",
       "1            NaN  \n",
       "2            NaN  \n",
       "3            NaN  \n",
       "4            NaN  \n",
       "5            NaN  \n",
       "6            1.0  \n",
       "7            NaN  \n",
       "8            NaN  \n",
       "9            NaN  "
      ]
     },
     "execution_count": 2,
     "metadata": {},
     "output_type": "execute_result"
    }
   ],
   "source": [
    "import pandas as pd\n",
    "import matplotlib.pyplot as plt\n",
    "import seaborn as sns\n",
    "\n",
    "%matplotlib inline\n",
    "questions = pd.read_csv(\"2019_questions.csv\", parse_dates=[\"CreationDate\"])\n",
    "questions.head(10)"
   ]
  },
  {
   "cell_type": "code",
   "execution_count": 3,
   "metadata": {
    "collapsed": false
   },
   "outputs": [
    {
     "name": "stdout",
     "output_type": "stream",
     "text": [
      "<class 'pandas.core.frame.DataFrame'>\n",
      "RangeIndex: 8839 entries, 0 to 8838\n",
      "Data columns (total 7 columns):\n",
      "Id               8839 non-null int64\n",
      "CreationDate     8839 non-null datetime64[ns]\n",
      "Score            8839 non-null int64\n",
      "ViewCount        8839 non-null int64\n",
      "Tags             8839 non-null object\n",
      "AnswerCount      8839 non-null int64\n",
      "FavoriteCount    1407 non-null float64\n",
      "dtypes: datetime64[ns](1), float64(1), int64(4), object(1)\n",
      "memory usage: 483.5+ KB\n"
     ]
    }
   ],
   "source": [
    "questions.info()"
   ]
  },
  {
   "cell_type": "markdown",
   "metadata": {},
   "source": [
    "We see that only `FavoriteCount` has missing values. A missing value on this column probably means that the question was is not present in any users' favorite list, so we can replace the missing values with zero."
   ]
  },
  {
   "cell_type": "markdown",
   "metadata": {},
   "source": [
    "### Cleaning the Data"
   ]
  },
  {
   "cell_type": "markdown",
   "metadata": {},
   "source": [
    "Let's start with an evaluation of our FavoriteCount column."
   ]
  },
  {
   "cell_type": "code",
   "execution_count": 4,
   "metadata": {
    "collapsed": false
   },
   "outputs": [],
   "source": [
    "questions[\"FavoriteCount\"] = questions[\"FavoriteCount\"].fillna(0)\n",
    "questions[\"FavoriteCount\"] = questions[\"FavoriteCount\"].astype(int)"
   ]
  },
  {
   "cell_type": "markdown",
   "metadata": {},
   "source": [
    "Let's now modify Tags to make it easier to work with.\n",
    "\n"
   ]
  },
  {
   "cell_type": "code",
   "execution_count": 5,
   "metadata": {
    "collapsed": true
   },
   "outputs": [],
   "source": [
    "questions[\"Tags\"] = questions[\"Tags\"].str.replace(\"<\", \"\").str.replace(\">\", \",\")\n",
    "questions[\"Tags\"] = questions[\"Tags\"].str.split(\",\")"
   ]
  },
  {
   "cell_type": "code",
   "execution_count": 6,
   "metadata": {
    "collapsed": false
   },
   "outputs": [
    {
     "data": {
      "text/html": [
       "<div>\n",
       "<style scoped>\n",
       "    .dataframe tbody tr th:only-of-type {\n",
       "        vertical-align: middle;\n",
       "    }\n",
       "\n",
       "    .dataframe tbody tr th {\n",
       "        vertical-align: top;\n",
       "    }\n",
       "\n",
       "    .dataframe thead th {\n",
       "        text-align: right;\n",
       "    }\n",
       "</style>\n",
       "<table border=\"1\" class=\"dataframe\">\n",
       "  <thead>\n",
       "    <tr style=\"text-align: right;\">\n",
       "      <th></th>\n",
       "      <th>Id</th>\n",
       "      <th>CreationDate</th>\n",
       "      <th>Score</th>\n",
       "      <th>ViewCount</th>\n",
       "      <th>Tags</th>\n",
       "      <th>AnswerCount</th>\n",
       "      <th>FavoriteCount</th>\n",
       "    </tr>\n",
       "  </thead>\n",
       "  <tbody>\n",
       "    <tr>\n",
       "      <th>5226</th>\n",
       "      <td>62661</td>\n",
       "      <td>2019-11-04 15:48:26</td>\n",
       "      <td>0</td>\n",
       "      <td>14</td>\n",
       "      <td>[machine-learning, python, predictive-modeling...</td>\n",
       "      <td>0</td>\n",
       "      <td>0</td>\n",
       "    </tr>\n",
       "    <tr>\n",
       "      <th>8199</th>\n",
       "      <td>54748</td>\n",
       "      <td>2019-06-29 18:28:34</td>\n",
       "      <td>2</td>\n",
       "      <td>73</td>\n",
       "      <td>[nlp, xgboost, prediction, performance, ]</td>\n",
       "      <td>1</td>\n",
       "      <td>1</td>\n",
       "    </tr>\n",
       "    <tr>\n",
       "      <th>2329</th>\n",
       "      <td>47392</td>\n",
       "      <td>2019-03-16 04:38:14</td>\n",
       "      <td>2</td>\n",
       "      <td>170</td>\n",
       "      <td>[linear-regression, normalization, ]</td>\n",
       "      <td>1</td>\n",
       "      <td>0</td>\n",
       "    </tr>\n",
       "  </tbody>\n",
       "</table>\n",
       "</div>"
      ],
      "text/plain": [
       "         Id        CreationDate  Score  ViewCount  \\\n",
       "5226  62661 2019-11-04 15:48:26      0         14   \n",
       "8199  54748 2019-06-29 18:28:34      2         73   \n",
       "2329  47392 2019-03-16 04:38:14      2        170   \n",
       "\n",
       "                                                   Tags  AnswerCount  \\\n",
       "5226  [machine-learning, python, predictive-modeling...            0   \n",
       "8199          [nlp, xgboost, prediction, performance, ]            1   \n",
       "2329               [linear-regression, normalization, ]            1   \n",
       "\n",
       "      FavoriteCount  \n",
       "5226              0  \n",
       "8199              1  \n",
       "2329              0  "
      ]
     },
     "execution_count": 6,
     "metadata": {},
     "output_type": "execute_result"
    }
   ],
   "source": [
    "questions.sample(3)"
   ]
  },
  {
   "cell_type": "markdown",
   "metadata": {},
   "source": [
    "### Most Used and Most Viewed"
   ]
  },
  {
   "cell_type": "code",
   "execution_count": 7,
   "metadata": {
    "collapsed": false,
    "scrolled": true
   },
   "outputs": [
    {
     "data": {
      "text/html": [
       "<div>\n",
       "<style scoped>\n",
       "    .dataframe tbody tr th:only-of-type {\n",
       "        vertical-align: middle;\n",
       "    }\n",
       "\n",
       "    .dataframe tbody tr th {\n",
       "        vertical-align: top;\n",
       "    }\n",
       "\n",
       "    .dataframe thead th {\n",
       "        text-align: right;\n",
       "    }\n",
       "</style>\n",
       "<table border=\"1\" class=\"dataframe\">\n",
       "  <thead>\n",
       "    <tr style=\"text-align: right;\">\n",
       "      <th></th>\n",
       "      <th>tag</th>\n",
       "      <th>count</th>\n",
       "    </tr>\n",
       "  </thead>\n",
       "  <tbody>\n",
       "    <tr>\n",
       "      <th>0</th>\n",
       "      <td></td>\n",
       "      <td>8839</td>\n",
       "    </tr>\n",
       "    <tr>\n",
       "      <th>24</th>\n",
       "      <td>machine-learning</td>\n",
       "      <td>2693</td>\n",
       "    </tr>\n",
       "    <tr>\n",
       "      <th>199</th>\n",
       "      <td>python</td>\n",
       "      <td>1814</td>\n",
       "    </tr>\n",
       "    <tr>\n",
       "      <th>72</th>\n",
       "      <td>deep-learning</td>\n",
       "      <td>1220</td>\n",
       "    </tr>\n",
       "    <tr>\n",
       "      <th>380</th>\n",
       "      <td>neural-network</td>\n",
       "      <td>1055</td>\n",
       "    </tr>\n",
       "    <tr>\n",
       "      <th>497</th>\n",
       "      <td>keras</td>\n",
       "      <td>935</td>\n",
       "    </tr>\n",
       "    <tr>\n",
       "      <th>464</th>\n",
       "      <td>classification</td>\n",
       "      <td>685</td>\n",
       "    </tr>\n",
       "    <tr>\n",
       "      <th>204</th>\n",
       "      <td>tensorflow</td>\n",
       "      <td>584</td>\n",
       "    </tr>\n",
       "    <tr>\n",
       "      <th>294</th>\n",
       "      <td>scikit-learn</td>\n",
       "      <td>540</td>\n",
       "    </tr>\n",
       "    <tr>\n",
       "      <th>520</th>\n",
       "      <td>nlp</td>\n",
       "      <td>493</td>\n",
       "    </tr>\n",
       "  </tbody>\n",
       "</table>\n",
       "</div>"
      ],
      "text/plain": [
       "                  tag  count\n",
       "0                       8839\n",
       "24   machine-learning   2693\n",
       "199            python   1814\n",
       "72      deep-learning   1220\n",
       "380    neural-network   1055\n",
       "497             keras    935\n",
       "464    classification    685\n",
       "204        tensorflow    584\n",
       "294      scikit-learn    540\n",
       "520               nlp    493"
      ]
     },
     "execution_count": 7,
     "metadata": {},
     "output_type": "execute_result"
    }
   ],
   "source": [
    "tag_count = {}\n",
    "for tag_list in questions['Tags']:\n",
    "    for tag in tag_list:\n",
    "        if tag in tag_count:\n",
    "            tag_count[tag] += 1\n",
    "        else:\n",
    "            tag_count[tag] = 1\n",
    "\n",
    "tags = pd.DataFrame(list(tag_count.items()), columns = ['tag','count'])\n",
    "\n",
    "tags.sort_values('count',ascending=False).head(10)"
   ]
  },
  {
   "cell_type": "code",
   "execution_count": 12,
   "metadata": {
    "collapsed": false
   },
   "outputs": [],
   "source": [
    "tag_views = {}\n",
    "\n",
    "for index, row in questions.iterrows():\n",
    "    for tag in row['Tags']:\n",
    "        if tag in tag_views:\n",
    "            tag_views[tag] += row['ViewCount']\n",
    "        else:\n",
    "            tag_views[tag] = row['ViewCount']"
   ]
  },
  {
   "cell_type": "code",
   "execution_count": 17,
   "metadata": {
    "collapsed": false,
    "scrolled": true
   },
   "outputs": [],
   "source": [
    "tag_tot_views = pd.DataFrame(list(tag_views.items()), columns = ['tag','views'])"
   ]
  },
  {
   "cell_type": "code",
   "execution_count": 21,
   "metadata": {
    "collapsed": false
   },
   "outputs": [
    {
     "data": {
      "text/html": [
       "<div>\n",
       "<style scoped>\n",
       "    .dataframe tbody tr th:only-of-type {\n",
       "        vertical-align: middle;\n",
       "    }\n",
       "\n",
       "    .dataframe tbody tr th {\n",
       "        vertical-align: top;\n",
       "    }\n",
       "\n",
       "    .dataframe thead th {\n",
       "        text-align: right;\n",
       "    }\n",
       "</style>\n",
       "<table border=\"1\" class=\"dataframe\">\n",
       "  <thead>\n",
       "    <tr style=\"text-align: right;\">\n",
       "      <th></th>\n",
       "      <th>tag</th>\n",
       "      <th>count</th>\n",
       "    </tr>\n",
       "  </thead>\n",
       "  <tbody>\n",
       "    <tr>\n",
       "      <th>0</th>\n",
       "      <td></td>\n",
       "      <td>8839</td>\n",
       "    </tr>\n",
       "    <tr>\n",
       "      <th>24</th>\n",
       "      <td>machine-learning</td>\n",
       "      <td>2693</td>\n",
       "    </tr>\n",
       "    <tr>\n",
       "      <th>199</th>\n",
       "      <td>python</td>\n",
       "      <td>1814</td>\n",
       "    </tr>\n",
       "    <tr>\n",
       "      <th>72</th>\n",
       "      <td>deep-learning</td>\n",
       "      <td>1220</td>\n",
       "    </tr>\n",
       "    <tr>\n",
       "      <th>380</th>\n",
       "      <td>neural-network</td>\n",
       "      <td>1055</td>\n",
       "    </tr>\n",
       "    <tr>\n",
       "      <th>497</th>\n",
       "      <td>keras</td>\n",
       "      <td>935</td>\n",
       "    </tr>\n",
       "    <tr>\n",
       "      <th>464</th>\n",
       "      <td>classification</td>\n",
       "      <td>685</td>\n",
       "    </tr>\n",
       "    <tr>\n",
       "      <th>204</th>\n",
       "      <td>tensorflow</td>\n",
       "      <td>584</td>\n",
       "    </tr>\n",
       "    <tr>\n",
       "      <th>294</th>\n",
       "      <td>scikit-learn</td>\n",
       "      <td>540</td>\n",
       "    </tr>\n",
       "    <tr>\n",
       "      <th>520</th>\n",
       "      <td>nlp</td>\n",
       "      <td>493</td>\n",
       "    </tr>\n",
       "    <tr>\n",
       "      <th>208</th>\n",
       "      <td>cnn</td>\n",
       "      <td>489</td>\n",
       "    </tr>\n",
       "    <tr>\n",
       "      <th>326</th>\n",
       "      <td>time-series</td>\n",
       "      <td>466</td>\n",
       "    </tr>\n",
       "    <tr>\n",
       "      <th>306</th>\n",
       "      <td>lstm</td>\n",
       "      <td>402</td>\n",
       "    </tr>\n",
       "    <tr>\n",
       "      <th>394</th>\n",
       "      <td>pandas</td>\n",
       "      <td>354</td>\n",
       "    </tr>\n",
       "    <tr>\n",
       "      <th>264</th>\n",
       "      <td>regression</td>\n",
       "      <td>347</td>\n",
       "    </tr>\n",
       "    <tr>\n",
       "      <th>160</th>\n",
       "      <td>dataset</td>\n",
       "      <td>340</td>\n",
       "    </tr>\n",
       "    <tr>\n",
       "      <th>344</th>\n",
       "      <td>r</td>\n",
       "      <td>268</td>\n",
       "    </tr>\n",
       "    <tr>\n",
       "      <th>45</th>\n",
       "      <td>predictive-modeling</td>\n",
       "      <td>265</td>\n",
       "    </tr>\n",
       "    <tr>\n",
       "      <th>1</th>\n",
       "      <td>clustering</td>\n",
       "      <td>257</td>\n",
       "    </tr>\n",
       "    <tr>\n",
       "      <th>242</th>\n",
       "      <td>statistics</td>\n",
       "      <td>234</td>\n",
       "    </tr>\n",
       "  </tbody>\n",
       "</table>\n",
       "</div>"
      ],
      "text/plain": [
       "                     tag  count\n",
       "0                          8839\n",
       "24      machine-learning   2693\n",
       "199               python   1814\n",
       "72         deep-learning   1220\n",
       "380       neural-network   1055\n",
       "497                keras    935\n",
       "464       classification    685\n",
       "204           tensorflow    584\n",
       "294         scikit-learn    540\n",
       "520                  nlp    493\n",
       "208                  cnn    489\n",
       "326          time-series    466\n",
       "306                 lstm    402\n",
       "394               pandas    354\n",
       "264           regression    347\n",
       "160              dataset    340\n",
       "344                    r    268\n",
       "45   predictive-modeling    265\n",
       "1             clustering    257\n",
       "242           statistics    234"
      ]
     },
     "execution_count": 21,
     "metadata": {},
     "output_type": "execute_result"
    }
   ],
   "source": [
    "top20_tags_frequency = tags.sort_values('count',ascending=False).head(20)\n",
    "top20_tags_frequency\n"
   ]
  },
  {
   "cell_type": "code",
   "execution_count": 22,
   "metadata": {
    "collapsed": false
   },
   "outputs": [
    {
     "data": {
      "text/html": [
       "<div>\n",
       "<style scoped>\n",
       "    .dataframe tbody tr th:only-of-type {\n",
       "        vertical-align: middle;\n",
       "    }\n",
       "\n",
       "    .dataframe tbody tr th {\n",
       "        vertical-align: top;\n",
       "    }\n",
       "\n",
       "    .dataframe thead th {\n",
       "        text-align: right;\n",
       "    }\n",
       "</style>\n",
       "<table border=\"1\" class=\"dataframe\">\n",
       "  <thead>\n",
       "    <tr style=\"text-align: right;\">\n",
       "      <th></th>\n",
       "      <th>tag</th>\n",
       "      <th>views</th>\n",
       "    </tr>\n",
       "  </thead>\n",
       "  <tbody>\n",
       "    <tr>\n",
       "      <th>0</th>\n",
       "      <td></td>\n",
       "      <td>1516313</td>\n",
       "    </tr>\n",
       "    <tr>\n",
       "      <th>199</th>\n",
       "      <td>python</td>\n",
       "      <td>537585</td>\n",
       "    </tr>\n",
       "    <tr>\n",
       "      <th>24</th>\n",
       "      <td>machine-learning</td>\n",
       "      <td>388499</td>\n",
       "    </tr>\n",
       "    <tr>\n",
       "      <th>497</th>\n",
       "      <td>keras</td>\n",
       "      <td>268608</td>\n",
       "    </tr>\n",
       "    <tr>\n",
       "      <th>72</th>\n",
       "      <td>deep-learning</td>\n",
       "      <td>233628</td>\n",
       "    </tr>\n",
       "    <tr>\n",
       "      <th>394</th>\n",
       "      <td>pandas</td>\n",
       "      <td>201787</td>\n",
       "    </tr>\n",
       "    <tr>\n",
       "      <th>380</th>\n",
       "      <td>neural-network</td>\n",
       "      <td>185367</td>\n",
       "    </tr>\n",
       "    <tr>\n",
       "      <th>294</th>\n",
       "      <td>scikit-learn</td>\n",
       "      <td>128110</td>\n",
       "    </tr>\n",
       "    <tr>\n",
       "      <th>204</th>\n",
       "      <td>tensorflow</td>\n",
       "      <td>121369</td>\n",
       "    </tr>\n",
       "    <tr>\n",
       "      <th>464</th>\n",
       "      <td>classification</td>\n",
       "      <td>104457</td>\n",
       "    </tr>\n",
       "    <tr>\n",
       "      <th>428</th>\n",
       "      <td>dataframe</td>\n",
       "      <td>89352</td>\n",
       "    </tr>\n",
       "    <tr>\n",
       "      <th>306</th>\n",
       "      <td>lstm</td>\n",
       "      <td>74458</td>\n",
       "    </tr>\n",
       "    <tr>\n",
       "      <th>520</th>\n",
       "      <td>nlp</td>\n",
       "      <td>71382</td>\n",
       "    </tr>\n",
       "    <tr>\n",
       "      <th>208</th>\n",
       "      <td>cnn</td>\n",
       "      <td>70349</td>\n",
       "    </tr>\n",
       "    <tr>\n",
       "      <th>326</th>\n",
       "      <td>time-series</td>\n",
       "      <td>64134</td>\n",
       "    </tr>\n",
       "    <tr>\n",
       "      <th>134</th>\n",
       "      <td>numpy</td>\n",
       "      <td>49767</td>\n",
       "    </tr>\n",
       "    <tr>\n",
       "      <th>264</th>\n",
       "      <td>regression</td>\n",
       "      <td>49451</td>\n",
       "    </tr>\n",
       "    <tr>\n",
       "      <th>160</th>\n",
       "      <td>dataset</td>\n",
       "      <td>43151</td>\n",
       "    </tr>\n",
       "    <tr>\n",
       "      <th>232</th>\n",
       "      <td>pytorch</td>\n",
       "      <td>40240</td>\n",
       "    </tr>\n",
       "    <tr>\n",
       "      <th>41</th>\n",
       "      <td>csv</td>\n",
       "      <td>38654</td>\n",
       "    </tr>\n",
       "  </tbody>\n",
       "</table>\n",
       "</div>"
      ],
      "text/plain": [
       "                  tag    views\n",
       "0                      1516313\n",
       "199            python   537585\n",
       "24   machine-learning   388499\n",
       "497             keras   268608\n",
       "72      deep-learning   233628\n",
       "394            pandas   201787\n",
       "380    neural-network   185367\n",
       "294      scikit-learn   128110\n",
       "204        tensorflow   121369\n",
       "464    classification   104457\n",
       "428         dataframe    89352\n",
       "306              lstm    74458\n",
       "520               nlp    71382\n",
       "208               cnn    70349\n",
       "326       time-series    64134\n",
       "134             numpy    49767\n",
       "264        regression    49451\n",
       "160           dataset    43151\n",
       "232           pytorch    40240\n",
       "41                csv    38654"
      ]
     },
     "execution_count": 22,
     "metadata": {},
     "output_type": "execute_result"
    }
   ],
   "source": [
    "top20_tags_views = tag_tot_views.sort_values(by = 'views',ascending = False).head(20)\n",
    "top20_tags_views"
   ]
  },
  {
   "cell_type": "code",
   "execution_count": 30,
   "metadata": {
    "collapsed": false
   },
   "outputs": [
    {
     "data": {
      "text/plain": [
       "array([<matplotlib.axes._subplots.AxesSubplot object at 0x7fe3e9acdba8>],\n",
       "      dtype=object)"
      ]
     },
     "execution_count": 30,
     "metadata": {},
     "output_type": "execute_result"
    },
    {
     "data": {
      "image/png": "[encoded data removed]",
      "text/plain": [
       "<matplotlib.figure.Figure at 0x7fe3e9b3e668>"
      ]
     },
     "metadata": {},
     "output_type": "display_data"
    }
   ],
   "source": [
    "fig, axes = plt.subplots(nrows = 1, ncols = 2, figsize = (25,10))\n",
    "top20_tags_frequency.plot(kind = 'barh', x = 'tag', y = 'count', ax = axes[0], subplots = True, legend = False, title = 'Top 20 Tags by Usage & Views')\n",
    "top20_tags_views.plot(kind = 'barh', x = 'tag', y = 'views', ax = axes[1], legend = False, subplots = True, sharey = False)\n"
   ]
  },
  {
   "cell_type": "markdown",
   "metadata": {},
   "source": [
    "### Enter Domain Knowledge"
   ]
  },
  {
   "cell_type": "markdown",
   "metadata": {},
   "source": [
    "Keras, scikit-learn, and TensorFlow are all Python packages that enable deep learning.\n",
    "\n",
    "The vast majority of the top tags are all linked to one central machine learning theme: deep learning. If we want to be more particular, we can propose developing Python content that employs deep learning to solve classification difficulties (and other variations of this suggestion).\n",
    "\n",
    "Someone with significant subject knowledge may understand from a glance that deep learning is the most popular topic at the time, as evidenced by our analysis."
   ]
  },
  {
   "cell_type": "markdown",
   "metadata": {},
   "source": [
    "### Just a Fad?"
   ]
  },
  {
   "cell_type": "markdown",
   "metadata": {},
   "source": [
    "We we'll read and transform `all_questions.csv` file that hold all of the questions ever asked on DSSE, their dates and tags."
   ]
  },
  {
   "cell_type": "code",
   "execution_count": 35,
   "metadata": {
    "collapsed": true
   },
   "outputs": [],
   "source": [
    "all_q = pd.read_csv(\"all_questions.csv\", parse_dates=[\"CreationDate\"])\n",
    "all_q[\"Tags\"] = all_q[\"Tags\"].str.replace(\"^<|>$\", \"\").str.split(\"><\")"
   ]
  },
  {
   "cell_type": "markdown",
   "metadata": {},
   "source": [
    "To decide which questions should be classified as deep learning we should choose relevant tags. It could be: \"lstm\", \"cnn\", \"scikit-learn\", \"tensorflow\", \"keras\", \"neural-network\", \"deep-learning\", from most-used tags."
   ]
  },
  {
   "cell_type": "code",
   "execution_count": 36,
   "metadata": {
    "collapsed": false
   },
   "outputs": [
    {
     "data": {
      "text/html": [
       "<div>\n",
       "<style scoped>\n",
       "    .dataframe tbody tr th:only-of-type {\n",
       "        vertical-align: middle;\n",
       "    }\n",
       "\n",
       "    .dataframe tbody tr th {\n",
       "        vertical-align: top;\n",
       "    }\n",
       "\n",
       "    .dataframe thead th {\n",
       "        text-align: right;\n",
       "    }\n",
       "</style>\n",
       "<table border=\"1\" class=\"dataframe\">\n",
       "  <thead>\n",
       "    <tr style=\"text-align: right;\">\n",
       "      <th></th>\n",
       "      <th>Id</th>\n",
       "      <th>CreationDate</th>\n",
       "      <th>Tags</th>\n",
       "      <th>DeepLearning</th>\n",
       "    </tr>\n",
       "  </thead>\n",
       "  <tbody>\n",
       "    <tr>\n",
       "      <th>0</th>\n",
       "      <td>45416</td>\n",
       "      <td>2019-02-12 00:36:29</td>\n",
       "      <td>[python, keras, tensorflow, cnn, probability]</td>\n",
       "      <td>1</td>\n",
       "    </tr>\n",
       "    <tr>\n",
       "      <th>1</th>\n",
       "      <td>45418</td>\n",
       "      <td>2019-02-12 00:50:39</td>\n",
       "      <td>[neural-network]</td>\n",
       "      <td>1</td>\n",
       "    </tr>\n",
       "    <tr>\n",
       "      <th>2</th>\n",
       "      <td>45422</td>\n",
       "      <td>2019-02-12 04:40:51</td>\n",
       "      <td>[python, ibm-watson, chatbot]</td>\n",
       "      <td>0</td>\n",
       "    </tr>\n",
       "    <tr>\n",
       "      <th>3</th>\n",
       "      <td>45426</td>\n",
       "      <td>2019-02-12 04:51:49</td>\n",
       "      <td>[keras]</td>\n",
       "      <td>1</td>\n",
       "    </tr>\n",
       "    <tr>\n",
       "      <th>4</th>\n",
       "      <td>45427</td>\n",
       "      <td>2019-02-12 05:08:24</td>\n",
       "      <td>[r, predictive-modeling, machine-learning-mode...</td>\n",
       "      <td>0</td>\n",
       "    </tr>\n",
       "    <tr>\n",
       "      <th>5</th>\n",
       "      <td>45428</td>\n",
       "      <td>2019-02-12 05:43:18</td>\n",
       "      <td>[cnn]</td>\n",
       "      <td>1</td>\n",
       "    </tr>\n",
       "    <tr>\n",
       "      <th>6</th>\n",
       "      <td>45430</td>\n",
       "      <td>2019-02-12 06:20:30</td>\n",
       "      <td>[machine-learning, learning]</td>\n",
       "      <td>0</td>\n",
       "    </tr>\n",
       "    <tr>\n",
       "      <th>7</th>\n",
       "      <td>45431</td>\n",
       "      <td>2019-02-12 07:26:56</td>\n",
       "      <td>[machine-learning]</td>\n",
       "      <td>0</td>\n",
       "    </tr>\n",
       "    <tr>\n",
       "      <th>8</th>\n",
       "      <td>45433</td>\n",
       "      <td>2019-02-12 08:56:23</td>\n",
       "      <td>[python, keras, tensorflow, lstm]</td>\n",
       "      <td>1</td>\n",
       "    </tr>\n",
       "    <tr>\n",
       "      <th>9</th>\n",
       "      <td>45434</td>\n",
       "      <td>2019-02-12 09:09:01</td>\n",
       "      <td>[neural-network, feature-selection, mlp]</td>\n",
       "      <td>1</td>\n",
       "    </tr>\n",
       "  </tbody>\n",
       "</table>\n",
       "</div>"
      ],
      "text/plain": [
       "      Id        CreationDate  \\\n",
       "0  45416 2019-02-12 00:36:29   \n",
       "1  45418 2019-02-12 00:50:39   \n",
       "2  45422 2019-02-12 04:40:51   \n",
       "3  45426 2019-02-12 04:51:49   \n",
       "4  45427 2019-02-12 05:08:24   \n",
       "5  45428 2019-02-12 05:43:18   \n",
       "6  45430 2019-02-12 06:20:30   \n",
       "7  45431 2019-02-12 07:26:56   \n",
       "8  45433 2019-02-12 08:56:23   \n",
       "9  45434 2019-02-12 09:09:01   \n",
       "\n",
       "                                                Tags  DeepLearning  \n",
       "0      [python, keras, tensorflow, cnn, probability]             1  \n",
       "1                                   [neural-network]             1  \n",
       "2                      [python, ibm-watson, chatbot]             0  \n",
       "3                                            [keras]             1  \n",
       "4  [r, predictive-modeling, machine-learning-mode...             0  \n",
       "5                                              [cnn]             1  \n",
       "6                       [machine-learning, learning]             0  \n",
       "7                                 [machine-learning]             0  \n",
       "8                  [python, keras, tensorflow, lstm]             1  \n",
       "9           [neural-network, feature-selection, mlp]             1  "
      ]
     },
     "execution_count": 36,
     "metadata": {},
     "output_type": "execute_result"
    }
   ],
   "source": [
    "def class_deep_learning(tags):\n",
    "    for tag in tags:\n",
    "        if tag in [\"lstm\", \"cnn\", \"scikit-learn\", \"tensorflow\",\n",
    "                   \"keras\", \"neural-network\", \"deep-learning\"]:\n",
    "            return 1\n",
    "    return 0\n",
    "all_q[\"DeepLearning\"] = all_q[\"Tags\"].apply(class_deep_learning)\n",
    "all_q.head(10)"
   ]
  },
  {
   "cell_type": "code",
   "execution_count": null,
   "metadata": {
    "collapsed": true
   },
   "outputs": [],
   "source": []
  }
 ],
 "metadata": {
  "kernelspec": {
   "display_name": "Python 3",
   "language": "python",
   "name": "python3"
  },
  "language_info": {
   "codemirror_mode": {
    "name": "ipython",
    "version": 3
   },
   "file_extension": ".py",
   "mimetype": "text/x-python",
   "name": "python",
   "nbconvert_exporter": "python",
   "pygments_lexer": "ipython3",
   "version": "3.4.3"
  }
 },
 "nbformat": 4,
 "nbformat_minor": 2
}
